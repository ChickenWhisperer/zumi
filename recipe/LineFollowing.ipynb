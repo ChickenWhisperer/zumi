{
 "cells": [
  {
   "cell_type": "markdown",
   "metadata": {},
   "source": [
    "Zumi will detect the current white color when the 'start_line_follower()' funtion starts.\n",
    "Make sure put the zumi on the white line before run this code."
   ]
  },
  {
   "cell_type": "code",
   "execution_count": null,
   "metadata": {},
   "outputs": [],
   "source": [
    "import sys\n",
    "sys.path.insert(0,'/home/pi/zumi/lib')\n",
    "\n",
    "import Engine as engine\n",
    "import Infrared as infrared\n",
    "import time\n",
    "import IPython.display\n",
    "\n",
    "# Use time.sleep(numberOfSeconds) to sleep Zumi for 2 seconds\n",
    "time.sleep(2)\n",
    "# Use the Engine to start line following\n",
    "#if(infrared.get_right_color)\n",
    "engine.set_speed(45)\n",
    "engine.start_line_follower()\n",
    "\n",
    "while(1):\n",
    "    if infrared.get_front_distance()<600:\n",
    "        engine.stop()\n",
    "        time.sleep(.5)\n",
    "        engine.go_backward()\n",
    "        time.sleep(.1)\n",
    "        engine.turn_left()\n",
    "        time.sleep(.75)\n",
    "        engine.start_line_follower()\n",
    "\n",
    "# Use time.sleep(numberOfSeconds) to sleep Linky for 2 seconds before reading the IR sensors\n",
    "\n",
    "# Use a loop to continually read the front distance and test it with your finger\n",
    "\n",
    "#This line will clear the display so that you don't see a new line for each reading\n"
   ]
  },
  {
   "cell_type": "code",
   "execution_count": null,
   "metadata": {},
   "outputs": [],
   "source": []
  },
  {
   "cell_type": "code",
   "execution_count": null,
   "metadata": {},
   "outputs": [],
   "source": []
  }
 ],
 "metadata": {
  "kernelspec": {
   "display_name": "Python 3",
   "language": "python",
   "name": "python3"
  }
 },
 "nbformat": 4,
 "nbformat_minor": 2
}
